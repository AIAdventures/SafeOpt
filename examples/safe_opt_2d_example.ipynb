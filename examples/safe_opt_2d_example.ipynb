{
 "cells": [
  {
   "cell_type": "code",
   "execution_count": null,
   "metadata": {
    "collapsed": false
   },
   "outputs": [],
   "source": [
    "from __future__ import print_function, division, absolute_import\n",
    "\n",
    "import GPy\n",
    "import numpy as np\n",
    "import matplotlib.pyplot as plt\n",
    "%matplotlib inline\n",
    "\n",
    "import ipywidgets as widgets # Widget definitions\n",
    "from IPython import display # Used to display widgets in the notebook\n",
    "\n",
    "# Import safeopt from system, alternatively add main folder to path\n",
    "try:\n",
    "    import safeopt\n",
    "except ImportError:\n",
    "    import sys\n",
    "    import os\n",
    "    module_path = os.path.abspath('..')\n",
    "    sys.path.append(module_path)\n",
    "    import safeopt"
   ]
  },
  {
   "cell_type": "markdown",
   "metadata": {},
   "source": [
    "## Define a kernel and function\n",
    "\n",
    "Here we define a kernel. The function is drawn at random from the GP and is corrupted my Gaussian noise"
   ]
  },
  {
   "cell_type": "code",
   "execution_count": null,
   "metadata": {
    "collapsed": false
   },
   "outputs": [],
   "source": [
    "noise_var = 0.05 ** 2\n",
    "\n",
    "# Set fixed Gaussian measurement noise\n",
    "likelihood = GPy.likelihoods.gaussian.Gaussian(variance=noise_var)\n",
    "likelihood.constrain_fixed(warning=False);\n",
    "\n",
    "# Bounds on the inputs variable\n",
    "bounds = [(-5., 5.), (-5., 5.)]\n",
    "\n",
    "# set of parameters\n",
    "parameter_set = safeopt.linearly_spaced_combinations(bounds, 100)\n",
    "\n",
    "# Define Kernel\n",
    "kernel = GPy.kern.RBF(input_dim=len(bounds), variance=2., lengthscale=1.0,\n",
    "                      ARD=True)\n",
    "\n",
    "# Initial safe point\n",
    "x0 = np.zeros((1, len(bounds)))\n",
    "\n",
    "# Generate function with safe initial point at x=0\n",
    "def sample_safe_fun():\n",
    "    while True:\n",
    "        fun = safeopt.sample_gp_function(kernel, bounds, noise_var, 10)\n",
    "        if fun([0,0], noise=False) > 0.5:\n",
    "            break\n",
    "    return fun"
   ]
  },
  {
   "cell_type": "markdown",
   "metadata": {},
   "source": [
    "## Interactive run of the algorithm\n",
    "\n",
    "The slow part of running this is the plotting with matplotlib. Consider switching to the 2D level sets."
   ]
  },
  {
   "cell_type": "code",
   "execution_count": null,
   "metadata": {
    "collapsed": false,
    "scrolled": true
   },
   "outputs": [],
   "source": [
    "button_add = widgets.Button(description='Add sample', tooltip='Sample a new data point for the optimization')\n",
    "button_reset = widgets.Button(description='Reset', tooltip='Restart the safe optimization algorithm')\n",
    "button_new = widgets.Button(description='New function', tooltip='Add a new function and reset')\n",
    "button_3d = widgets.Button(description='Toggle 2D/3D', tooltip='Toggle 2D/3D view')\n",
    "\n",
    "ms = 20\n",
    "mew = 7\n",
    "\n",
    "plot_3d = False\n",
    "def plot_gp():\n",
    "    gp_opt.plot(plot_3d=plot_3d, n_samples=50, figure=plt.figure(figsize=(15, 13)))\n",
    "    \n",
    "    # Plot last point red\n",
    "    if gp_opt.gp is not None:\n",
    "        if plot_3d:\n",
    "            plt.plot(gp_opt.gp.X[-1, 0, None], gp_opt.gp.X[-1, 1, None], gp_opt.gp.Y[-1, 0, None],\n",
    "                     'rx', ms=ms, mew=mew, label='Last Point')\n",
    "        else:\n",
    "            plt.plot(gp_opt.gp.X[-1, 0], gp_opt.gp.X[-1, 1],\n",
    "                     'rx', ms=ms, mew=mew, label='Last Point')\n",
    "\n",
    "    # Ensure we only get one plot\n",
    "    display.clear_output(wait=True)\n",
    "    \n",
    "def toggle_3d(b=None):\n",
    "    global plot_3d\n",
    "    plot_3d = not plot_3d\n",
    "    plot_gp()\n",
    "button_3d.on_click(toggle_3d)\n",
    "\n",
    "def new_sample(b=None):\n",
    "    \"\"\"Draw a new gp sample\"\"\"\n",
    "    x = gp_opt.optimize()\n",
    "    gp_opt.add_new_data_point(x, fun(x))\n",
    "    plot_gp()\n",
    "button_add.on_click(new_sample)\n",
    "\n",
    "def reset(b=None):\n",
    "    \"\"\"Reset the GP-UCB algorithm\"\"\"\n",
    "    global gp_opt\n",
    "    gp = GPy.core.GP(x0, fun(x0), kernel, likelihood)\n",
    "    gp_opt = safeopt.SafeOpt(gp, parameter_set, 0.)\n",
    "    plot_gp()\n",
    "button_reset.on_click(reset)\n",
    "\n",
    "def new_fun(b=None):\n",
    "    \"\"\"Draw a new function from the GP\"\"\"\n",
    "    global fun\n",
    "    fun = sample_safe_fun()\n",
    "    reset(b)\n",
    "button_new.on_click(new_fun)\n",
    "\n",
    "display.display(button_add, button_new, button_3d, button_reset)\n",
    "new_fun()"
   ]
  },
  {
   "cell_type": "code",
   "execution_count": null,
   "metadata": {
    "collapsed": true
   },
   "outputs": [],
   "source": []
  }
 ],
 "metadata": {
  "kernelspec": {
   "display_name": "Python 2",
   "language": "python",
   "name": "python2"
  },
  "language_info": {
   "codemirror_mode": {
    "name": "ipython",
    "version": 2
   },
   "file_extension": ".py",
   "mimetype": "text/x-python",
   "name": "python",
   "nbconvert_exporter": "python",
   "pygments_lexer": "ipython2",
   "version": "2.7.11"
  }
 },
 "nbformat": 4,
 "nbformat_minor": 0
}
