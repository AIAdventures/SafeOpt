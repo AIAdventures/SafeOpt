{
 "cells": [
  {
   "cell_type": "code",
   "execution_count": null,
   "metadata": {
    "collapsed": false
   },
   "outputs": [],
   "source": [
    "from __future__ import print_function, division, absolute_import\n",
    "\n",
    "import GPy\n",
    "import numpy as np\n",
    "import matplotlib.pyplot as plt\n",
    "%matplotlib inline\n",
    "\n",
    "import ipywidgets as widgets # Widget definitions\n",
    "from IPython import display # Used to display widgets in the notebook\n",
    "\n",
    "# Import safeopt from system, alternatively add main folder to path\n",
    "try:\n",
    "    import safeopt\n",
    "except ImportError:\n",
    "    import sys\n",
    "    import os\n",
    "    module_path = os.path.abspath('..')\n",
    "    sys.path.append(module_path)\n",
    "    import safeopt"
   ]
  },
  {
   "cell_type": "markdown",
   "metadata": {},
   "source": [
    "## Define a kernel and function\n",
    "\n",
    "Here we define a kernel. The function is drawn at random from the GP and is corrupted my Gaussian noise"
   ]
  },
  {
   "cell_type": "code",
   "execution_count": null,
   "metadata": {
    "collapsed": false
   },
   "outputs": [],
   "source": [
    "# Measurement noise\n",
    "noise_var = 0.05 ** 2\n",
    "\n",
    "# Set fixed Gaussian measurement noise\n",
    "likelihood = GPy.likelihoods.gaussian.Gaussian(variance=noise_var)\n",
    "likelihood2 = likelihood.copy()\n",
    "likelihood2.variance = 1e-5\n",
    "\n",
    "# Bounds on the inputs variable\n",
    "bounds = [(-10., 10.)]\n",
    "\n",
    "# Define Kernel\n",
    "kernel = GPy.kern.RBF(input_dim=len(bounds), variance=2., lengthscale=1.0, ARD=True)\n",
    "kernel2 = kernel.copy()\n",
    "\n",
    "# set of parameters\n",
    "parameter_set = safeopt.linearly_spaced_combinations(bounds, 1000)\n",
    "\n",
    "# Initial safe point\n",
    "x0 = np.zeros((1, len(bounds)))\n",
    "\n",
    "# Generate function with safe initial point at x=0\n",
    "def sample_safe_fun():\n",
    "    fun = safeopt.sample_gp_function(kernel, bounds, likelihood.variance, 100)\n",
    "    while True:\n",
    "        fun2 = safeopt.sample_gp_function(kernel2, bounds, likelihood2.variance, 100)\n",
    "        if fun2(0, noise=False) > 1:\n",
    "            break\n",
    "            \n",
    "    def combined_fun(x, noise=True):\n",
    "        return np.hstack([fun(x, noise), fun2(x, noise)])\n",
    "    return combined_fun"
   ]
  },
  {
   "cell_type": "markdown",
   "metadata": {},
   "source": [
    "## Interactive run of the algorithm"
   ]
  },
  {
   "cell_type": "code",
   "execution_count": null,
   "metadata": {
    "collapsed": true
   },
   "outputs": [],
   "source": [
    "# whether to use the swarm optimization\n",
    "swarm_optimization = False"
   ]
  },
  {
   "cell_type": "code",
   "execution_count": null,
   "metadata": {
    "collapsed": false,
    "scrolled": true
   },
   "outputs": [],
   "source": [
    "button_add = widgets.Button(description='Add sample', tooltip='Sample a new data point for the optimization')\n",
    "button_reset = widgets.Button(description='Reset', tooltip='Restart the safe optimization algorithm')\n",
    "button_new = widgets.Button(description='New function', tooltip='Add a new function and reset')\n",
    "slider_safety = widgets.FloatSlider(description='Safety threshold', value=0, min=-4, max=4, step=0.1)\n",
    "\n",
    "ms = 20\n",
    "mew = 7\n",
    "lw = 5\n",
    "\n",
    "def plot_gp():\n",
    "    figure, axes = plt.subplots(2, sharex=True, figsize=(15, 2 * 8))\n",
    "    \n",
    "    for i in range(len(gp_opt.gps)):\n",
    "        gp = gp_opt.gps[i]\n",
    "        axis = axes[i]\n",
    "        \n",
    "        safeopt.plot_2d_gp(gp, np.linspace(bounds[0][0], bounds[0][1], 1000)[:, None], axis=axis, lw=lw)\n",
    "    \n",
    "        # Plot last point red\n",
    "        axis.plot(gp.X[-1, :], gp.Y[-1, :],\n",
    "                  'rx', ms=ms, mew=mew, label='Last Point')\n",
    "        \n",
    "        # Plot safe line\n",
    "        axis.plot([bounds[0][0], bounds[0][1]], [gp_opt.fmin[i], gp_opt.fmin[i]],\n",
    "                  'k--', label='Minimum', lw=lw)\n",
    "        \n",
    "        axis.plot(true_values[0], true_values[1][:, [i]],\n",
    "                 alpha=0.15, label='True function', lw=lw)\n",
    "    \n",
    "    plt.ylim([-4, 4])\n",
    "    plt.legend(loc=3)\n",
    "    \n",
    "    # Ensure we only get one plot\n",
    "    display.clear_output(wait=True)\n",
    "\n",
    "def new_sample(b=None):\n",
    "    \"\"\"Draw a new gp sample\"\"\"\n",
    "    x = gp_opt.optimize()\n",
    "    gp_opt.add_new_data_point(x, fun(x))\n",
    "    plot_gp()\n",
    "button_add.on_click(new_sample)\n",
    "\n",
    "def reset(b=None):\n",
    "    \"\"\"Reset the GP-UCB algorithm\"\"\"\n",
    "    global gp_opt\n",
    "    y0 = fun(x0)\n",
    "    gp = GPy.core.GP(x0, y0[:, 0, None], kernel, likelihood)\n",
    "    gp2 = GPy.core.GP(x0, y0[:, 1, None], kernel2, likelihood2)\n",
    "    if swarm_optimization:\n",
    "        gp_opt = safeopt.SafeOptSwarm([gp, gp2], [-np.inf, 0.], bounds=bounds, threshold=0.2)\n",
    "    else:\n",
    "        gp_opt = safeopt.SafeOpt([gp, gp2], parameter_set, [-np.inf, 0.], lipschitz=None, threshold=0.2)\n",
    "    plot_gp()\n",
    "button_reset.on_click(reset)\n",
    "\n",
    "def new_fun(b=None):\n",
    "    \"\"\"Draw a new function from the GP\"\"\"\n",
    "    global fun\n",
    "    global true_values\n",
    "    fun = sample_safe_fun()\n",
    "    inp = np.linspace(bounds[0][0], bounds[0][1], 200)[:, None]\n",
    "    true_values = (inp, fun(inp, noise=False))\n",
    "    reset(b)\n",
    "button_new.on_click(new_fun)\n",
    "\n",
    "def change_safety(b=None):\n",
    "    if b == 'value':\n",
    "        gp_opt.fmin[1] = slider_safety.get_state()['value']\n",
    "        plot_gp()\n",
    "slider_safety.on_trait_change(change_safety)\n",
    "\n",
    "display.display(button_add, button_new, button_reset, slider_safety)\n",
    "new_fun()"
   ]
  },
  {
   "cell_type": "code",
   "execution_count": null,
   "metadata": {
    "collapsed": true
   },
   "outputs": [],
   "source": []
  }
 ],
 "metadata": {
  "anaconda-cloud": {},
  "kernelspec": {
   "display_name": "Python 2",
   "language": "python",
   "name": "python2"
  },
  "language_info": {
   "codemirror_mode": {
    "name": "ipython",
    "version": 2
   },
   "file_extension": ".py",
   "mimetype": "text/x-python",
   "name": "python",
   "nbconvert_exporter": "python",
   "pygments_lexer": "ipython2",
   "version": "2.7.11"
  },
  "widgets": {
   "state": {
    "495396d2cac242a1ac2143b7a4f119ad": {
     "views": [
      {
       "cell_index": 5
      }
     ]
    },
    "f6d454f3913f46898b83c02667c35060": {
     "views": [
      {
       "cell_index": 5
      }
     ]
    },
    "ff12471c8cae47a4aafc50325042c218": {
     "views": [
      {
       "cell_index": 5
      }
     ]
    }
   },
   "version": "1.2.0"
  }
 },
 "nbformat": 4,
 "nbformat_minor": 0
}
