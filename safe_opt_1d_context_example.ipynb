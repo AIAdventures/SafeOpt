{
 "cells": [
  {
   "cell_type": "code",
   "execution_count": null,
   "metadata": {
    "collapsed": false
   },
   "outputs": [],
   "source": [
    "from __future__ import print_function, division, absolute_import\n",
    "\n",
    "%load_ext autoreload\n",
    "%autoreload 2\n",
    "\n",
    "import safeopt\n",
    "import GPy\n",
    "import numpy as np\n",
    "import matplotlib.pyplot as plt\n",
    "%matplotlib inline\n",
    "\n",
    "import ipywidgets as widgets # Widget definitions\n",
    "from IPython import display # Used to display widgets in the notebook"
   ]
  },
  {
   "cell_type": "markdown",
   "metadata": {},
   "source": [
    "## Define a kernel and function\n",
    "\n",
    "Here we define a kernel. The function is drawn at random from the GP and is corrupted my Gaussian noise"
   ]
  },
  {
   "cell_type": "code",
   "execution_count": null,
   "metadata": {
    "collapsed": false
   },
   "outputs": [],
   "source": [
    "# Measurement noise\n",
    "noise_var = 0.05 ** 2\n",
    "\n",
    "# Set fixed Gaussian measurement noise\n",
    "likelihood = GPy.likelihoods.gaussian.Gaussian(variance=noise_var)\n",
    "\n",
    "# Bounds on the inputs variable\n",
    "bounds = [(-10., 10.), (-1, 1)]\n",
    "\n",
    "# Define Kernel\n",
    "# works on the first column of X, index=0\n",
    "k1 = GPy.kern.RBF(input_dim=1, variance=2., lengthscale=1.0, active_dims=[0])\n",
    "# works on the second column of X, index=1\n",
    "# k2 = GPy.kern.Linear(input_dim=1, active_dims=[1])\n",
    "k2 = GPy.kern.RBF(input_dim=1, variance=2., lengthscale=1.0, active_dims=[1])\n",
    "kernel = k1 * k2\n",
    "\n",
    "# set of parameters\n",
    "parameter_set = safeopt.linearly_spaced_combinations([bounds[0]], 1000)\n",
    "\n",
    "# Initial safe point\n",
    "x0 = np.array([[0]])\n",
    "\n",
    "# Generate function with safe initial point at x=0\n",
    "def sample_safe_fun():\n",
    "    while True:\n",
    "        k1_fun = safeopt.sample_gp_function(k1, [bounds[0]], noise_var, 50)    \n",
    "        if k1_fun(0, noise=False) > 0.5:\n",
    "            break\n",
    "    def fun(x, context, noise=True):\n",
    "        return k1_fun(x, noise=noise) + (5 * context)\n",
    "    return fun"
   ]
  },
  {
   "cell_type": "markdown",
   "metadata": {},
   "source": [
    "## Interactive run of the algorithm"
   ]
  },
  {
   "cell_type": "code",
   "execution_count": null,
   "metadata": {
    "collapsed": false,
    "scrolled": true
   },
   "outputs": [],
   "source": [
    "button_add = widgets.Button(description='Add sample', tooltip='Sample a new data point for the optimization')\n",
    "button_reset = widgets.Button(description='Reset', tooltip='Restart the safe optimization algorithm')\n",
    "button_new = widgets.Button(description='New function', tooltip='Add a new function and reset')\n",
    "slider_safety = widgets.FloatSlider(description='Safety threshold', value=0, min=-4, max=4, step=0.1)\n",
    "slider_context = widgets.FloatSlider(description='         Context', value=0, min=-1, max=1, step=0.05)\n",
    "\n",
    "ms = 20\n",
    "mew = 7\n",
    "lw = 5\n",
    "\n",
    "context = np.array([[0]])\n",
    "\n",
    "def plot_gp():\n",
    "    gp_opt.plot(figure=plt.figure(figsize=(15, 8)), lw=lw)\n",
    "    \n",
    "    # Plot last point red\n",
    "    if gp_opt.gp is not None:\n",
    "        plt.plot(gp_opt.gp.X[-1, 0], gp_opt.gp.Y[-1, :], 'rx', ms=ms, mew=mew, label='Last Point')\n",
    "        \n",
    "    # Plot safe line\n",
    "    plt.plot([bounds[0][0], bounds[0][1]], [gp_opt.fmin, gp_opt.fmin], 'k--', label='Minimum', lw=lw)\n",
    "        \n",
    "    plt.plot(true_values[0], true_values[1],\n",
    "             alpha=0.15, label='True function', lw=lw)\n",
    "    \n",
    "    plt.ylim([-4, 4])\n",
    "    plt.legend(loc=3)\n",
    "    \n",
    "    # Ensure we only get one plot\n",
    "    display.clear_output(wait=True)\n",
    "\n",
    "def new_sample(b=None):\n",
    "    \"\"\"Draw a new gp sample\"\"\"\n",
    "    gp_opt.optimize(context=context)\n",
    "    plot_gp()\n",
    "button_add.on_click(new_sample)\n",
    "\n",
    "def reset(b=None):\n",
    "    \"\"\"Reset the GP-UCB algorithm\"\"\"\n",
    "    global gp_opt\n",
    "    gp = GPy.core.GP(np.hstack((x0, [[0]])), fun(x0, 0), kernel, likelihood)\n",
    "    gp_opt = safeopt.SafeOpt(fun, gp, parameter_set, 0., num_contexts=1)\n",
    "    plot_gp()\n",
    "button_reset.on_click(reset)\n",
    "\n",
    "def new_fun(b=None):\n",
    "    \"\"\"Draw a new function from the GP\"\"\"\n",
    "    global fun\n",
    "    fun = sample_safe_fun()\n",
    "    get_true_fun()\n",
    "    reset(b)\n",
    "button_new.on_click(new_fun)\n",
    "\n",
    "def get_true_fun():\n",
    "    global true_values\n",
    "    inp = np.linspace(bounds[0][0], bounds[0][1], 200)[:, None]\n",
    "    true_values = (inp, fun(inp, context, noise=False))\n",
    "\n",
    "def change_safety(b=None):\n",
    "    if b == 'value':\n",
    "        gp_opt.fmin = slider_safety.get_state()['value']\n",
    "        plot_gp()\n",
    "slider_safety.on_trait_change(change_safety)\n",
    "\n",
    "def change_context(b=None):\n",
    "    if b == 'value':\n",
    "        global context\n",
    "        context = slider_context.get_state()['value']\n",
    "        get_true_fun()\n",
    "        gp_opt.change_context(context)\n",
    "        plot_gp()\n",
    "slider_context.on_trait_change(change_context)\n",
    "\n",
    "display.display(button_add, button_new, button_reset, slider_safety, slider_context)\n",
    "new_fun()"
   ]
  },
  {
   "cell_type": "code",
   "execution_count": null,
   "metadata": {
    "collapsed": true
   },
   "outputs": [],
   "source": []
  }
 ],
 "metadata": {
  "kernelspec": {
   "display_name": "Python 2",
   "language": "python",
   "name": "python2"
  },
  "language_info": {
   "codemirror_mode": {
    "name": "ipython",
    "version": 2
   },
   "file_extension": ".py",
   "mimetype": "text/x-python",
   "name": "python",
   "nbconvert_exporter": "python",
   "pygments_lexer": "ipython2",
   "version": "2.7.11"
  }
 },
 "nbformat": 4,
 "nbformat_minor": 0
}
