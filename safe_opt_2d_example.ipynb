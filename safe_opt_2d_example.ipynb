{
 "cells": [
  {
   "cell_type": "code",
   "execution_count": null,
   "metadata": {
    "collapsed": false
   },
   "outputs": [],
   "source": [
    "from __future__ import print_function, division, absolute_import\n",
    "\n",
    "%load_ext autoreload\n",
    "%autoreload 2\n",
    "\n",
    "from gp_ucb import *\n",
    "import matplotlib\n",
    "matplotlib.use('nbagg')\n",
    "import matplotlib.pyplot as plt\n",
    "%matplotlib inline\n",
    "\n",
    "\n",
    "from IPython.html import widgets # Widget definitions\n",
    "from IPython import display # Used to display widgets in the notebook"
   ]
  },
  {
   "cell_type": "markdown",
   "metadata": {},
   "source": [
    "## Define a kernel and function\n",
    "\n",
    "Here we define a kernel. The function is drawn at random from the GP and is corrupted my Gaussian noise"
   ]
  },
  {
   "cell_type": "code",
   "execution_count": null,
   "metadata": {
    "collapsed": false
   },
   "outputs": [],
   "source": [
    "noise_var = 0.05 ** 2\n",
    "\n",
    "# Set fixed Gaussian measurement noise\n",
    "likelihood = GPy.likelihoods.gaussian.Gaussian(variance=noise_var)\n",
    "likelihood.constrain_fixed(warning=False);\n",
    "\n",
    "# Bounds on the inputs variable\n",
    "bounds = [(-5., 5.), (-5., 5.)]\n",
    "\n",
    "# Define Kernel\n",
    "kernel = GPy.kern.RBF(input_dim=len(bounds), variance=2., lengthscale=1.0,\n",
    "                      ARD=True)\n",
    "\n",
    "# 3 sigma bound on lipschitz constant\n",
    "lipschitz = 2. * np.sqrt(min(kernel.variance.values)) / min(kernel.lengthscale.values)\n",
    "\n",
    "# Generate function with safe initial point at x=0\n",
    "def sample_safe_fun():\n",
    "    while True:\n",
    "            fun = sample_gp_function(kernel, bounds, noise_var, 10)\n",
    "            if fun([0,0]) > 0.5:\n",
    "                break\n",
    "    return fun"
   ]
  },
  {
   "cell_type": "markdown",
   "metadata": {},
   "source": [
    "## Interactive run of the algorithm\n",
    "\n",
    "The slow part of running this is the plotting with matplotlib. Consider switching to the 2D level sets."
   ]
  },
  {
   "cell_type": "code",
   "execution_count": null,
   "metadata": {
    "collapsed": false
   },
   "outputs": [],
   "source": [
    "button_add = widgets.Button(description='Add sample', tooltip='Sample a new data point for the optimization')\n",
    "button_reset = widgets.Button(description='Reset', tooltip='Restart the safe optimization algorithm')\n",
    "button_new = widgets.Button(description='New function', tooltip='Add a new function and reset')\n",
    "button_3d = widgets.Button(description='Toggle 2D/3D', tooltip='Toggle 2D/3D view')\n",
    "\n",
    "plot_3d = True\n",
    "def plot_gp():\n",
    "    gp_ucb.plot(plot_3d=plot_3d, n_samples=50)\n",
    "    \n",
    "    # Plot last point red\n",
    "    if gp_ucb.gp is not None:\n",
    "        if plot_3d:\n",
    "            pass\n",
    "            plt.plot(gp_ucb.gp.X[-1, 0, None], gp_ucb.gp.X[-1, 1, None], gp_ucb.gp.Y[-1, 0, None],\n",
    "                     'rx', ms=10, mew=3, label='Last Point')\n",
    "        else:\n",
    "            plt.plot(gp_ucb.gp.X[-1, 0], gp_ucb.gp.X[-1, 1],\n",
    "                     'rx', ms=10, mew=3, label='Last Point')\n",
    "        \n",
    "    # plt.plot(*fun(None, return_data=True)\n",
    "\n",
    "    # Ensure we only get one plot\n",
    "    display.clear_output(wait=True)\n",
    "    \n",
    "def toggle_3d(b=None):\n",
    "    global plot_3d\n",
    "    plot_3d = not plot_3d\n",
    "    plot_gp()\n",
    "button_3d.on_click(toggle_3d)\n",
    "\n",
    "def new_sample(b=None):\n",
    "    \"\"\"Draw a new gp sample\"\"\"\n",
    "    gp_ucb.optimize()\n",
    "    plot_gp()\n",
    "button_add.on_click(new_sample)\n",
    "\n",
    "def reset(b=None):\n",
    "    \"\"\"Reset the GP-UCB algorithm\"\"\"\n",
    "    global gp_ucb\n",
    "    gp_ucb = GaussianProcessSafeUCB(fun, bounds, kernel, likelihood, 100, 0., [0, 0], lipschitz)\n",
    "    gp_ucb.use_confidence_safety = True\n",
    "    gp_ucb.use_confidence_sets = True\n",
    "    plot_gp()\n",
    "button_reset.on_click(reset)\n",
    "\n",
    "def new_fun(b=None):\n",
    "    \"\"\"Draw a new function from the GP\"\"\"\n",
    "    global fun\n",
    "    fun = sample_safe_fun()\n",
    "    reset(b)\n",
    "button_new.on_click(new_fun)\n",
    "\n",
    "display.display(button_add, button_new, button_3d, button_reset)\n",
    "new_fun()"
   ]
  },
  {
   "cell_type": "code",
   "execution_count": null,
   "metadata": {
    "collapsed": true
   },
   "outputs": [],
   "source": []
  }
 ],
 "metadata": {
  "kernelspec": {
   "display_name": "Python 2",
   "language": "python",
   "name": "python2"
  },
  "language_info": {
   "codemirror_mode": {
    "name": "ipython",
    "version": 2
   },
   "file_extension": ".py",
   "mimetype": "text/x-python",
   "name": "python",
   "nbconvert_exporter": "python",
   "pygments_lexer": "ipython2",
   "version": "2.7.10"
  }
 },
 "nbformat": 4,
 "nbformat_minor": 0
}
